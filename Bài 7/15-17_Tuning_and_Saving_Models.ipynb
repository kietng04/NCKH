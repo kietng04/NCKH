{
 "cells": [
  {
   "cell_type": "markdown",
   "id": "abce2e46",
   "metadata": {},
   "source": [
    "# Machine Learning Mastery With Python\n",
    "## Chương 15-17: Dự đoán, Đánh giá thực tế & Triển khai mô hình Machine Learning\n",
    "\n",
    "Trong notebook này, chúng ta sẽ tìm hiểu cách sử dụng mô hình đã huấn luyện để dự đoán dữ liệu mới, đánh giá mô hình với dữ liệu thực tế, và các bước cơ bản để triển khai mô hình vào ứng dụng thực tiễn.\n",
    "\n",
    "---\n"
   ]
  },
  {
   "cell_type": "markdown",
   "id": "cfd19975",
   "metadata": {},
   "source": [
    "## Mục lục\n",
    "1. [Dự đoán với dữ liệu mới (Inference)](#predict)\n",
    "2. [Đánh giá mô hình với dữ liệu thực tế](#evaluate)\n",
    "3. [Triển khai mô hình: Automation & API cơ bản](#deploy)\n",
    "4. [Tổng kết](#summary)"
   ]
  },
  {
   "cell_type": "markdown",
   "id": "2512e7e8",
   "metadata": {},
   "source": [
    "<a id=\"predict\"></a>\n",
    "## 1. Dự đoán với dữ liệu mới (Inference)\n",
    "\n",
    "**Mục đích:**  \n",
    "- Sử dụng mô hình đã huấn luyện để dự đoán nhãn cho dữ liệu chưa từng gặp.\n",
    "\n",
    "**Lưu ý:**  \n",
    "- Dữ liệu mới phải qua các bước tiền xử lý giống như khi train (scaling, encoding, v.v.)."
   ]
  },
  {
   "cell_type": "code",
   "execution_count": null,
   "id": "4e3afa4e",
   "metadata": {},
   "outputs": [],
   "source": [
    "# Ví dụ: dùng model đã lưu ở các bước trước (best_model hoặc loaded_model)\n",
    "# Giả sử scaler là MinMaxScaler đã fit với dữ liệu train\n",
    "\n",
    "# Tạo dữ liệu mới (giả lập 2 mẫu)\n",
    "new_data = np.array([\n",
    "    [6, 148, 72, 35, 0, 33.6, 0.627, 50],\n",
    "    [1, 85, 66, 29, 0, 26.6, 0.351, 31]\n",
    "])\n",
    "\n",
    "# Tiền xử lý giống với train (ví dụ dùng MinMaxScaler)\n",
    "scaler = MinMaxScaler()\n",
    "scaler.fit(X)  # Fit trên toàn bộ tập gốc (hoặc tập train)\n",
    "new_data_scaled = scaler.transform(new_data)\n",
    "\n",
    "# Dự đoán\n",
    "predictions = loaded_model.predict(new_data_scaled)\n",
    "print(\"Dự đoán cho dữ liệu mới:\", predictions)\n"
   ]
  },
  {
   "cell_type": "markdown",
   "id": "81075d1c",
   "metadata": {},
   "source": [
    "<a id=\"evaluate\"></a>\n",
    "## 2. Đánh giá mô hình với dữ liệu thực tế\n",
    "\n",
    "**Mục đích:**  \n",
    "- Đánh giá hiệu năng mô hình trên dữ liệu thực tế (out-of-sample), không dùng trong quá trình train/test/validation.\n",
    "- So sánh với kỳ vọng, kiểm tra mô hình có bị overfit không.\n",
    "\n",
    "**Lưu ý:**  \n",
    "- Nếu có tập dữ liệu thực tế mới, nên thực hiện tiền xử lý giống như khi train."
   ]
  },
  {
   "cell_type": "code",
   "execution_count": null,
   "id": "d8d035ec",
   "metadata": {},
   "outputs": [],
   "source": [
    "# Giả sử bạn có file 'real_world_data.csv' với cấu trúc giống X\n",
    "# Đọc dữ liệu thực tế\n",
    "real_data = pd.read_csv('real_world_data.csv', names=names[:-1])\n",
    "real_labels = pd.read_csv('real_world_labels.csv')  # Nếu có nhãn thực tế\n",
    "\n",
    "# Tiền xử lý\n",
    "real_data_scaled = scaler.transform(real_data)\n",
    "\n",
    "# Dự đoán\n",
    "real_pred = loaded_model.predict(real_data_scaled)\n",
    "\n",
    "# Nếu có nhãn thực tế, đánh giá accuracy\n",
    "if 'class' in real_labels.columns or real_labels.shape[1] == 1:\n",
    "    from sklearn.metrics import accuracy_score\n",
    "    acc = accuracy_score(real_labels.values.ravel(), real_pred)\n",
    "    print(\"Accuracy trên dữ liệu thực tế:\", acc)\n",
    "else:\n",
    "    print(\"Không có nhãn thực tế, chỉ in ra dự đoán:\")\n",
    "    print(real_pred)"
   ]
  },
  {
   "cell_type": "markdown",
   "id": "7422d0bd",
   "metadata": {},
   "source": [
    "<a id=\"deploy\"></a>\n",
    "## 3. Triển khai mô hình: Automation & API cơ bản\n",
    "\n",
    "**Mục đích:**  \n",
    "- Đưa mô hình vào ứng dụng thực tế: tự động dự đoán, hoặc triển khai thành API để các hệ thống khác sử dụng.\n",
    "\n",
    "**Lưu ý:**  \n",
    "- Có thể dùng Flask, FastAPI, hoặc script Python tự động.\n",
    "- Ở đây minh họa cách viết script Python tự động dự đoán từ file input."
   ]
  },
  {
   "cell_type": "code",
   "execution_count": null,
   "id": "0d7d0f4f",
   "metadata": {},
   "outputs": [],
   "source": [
    "# Script đơn giản: đọc file input, dự đoán, lưu kết quả ra file output\n",
    "\n",
    "def predict_from_file(input_csv, output_csv, model, scaler):\n",
    "    data = pd.read_csv(input_csv, names=names[:-1])\n",
    "    data_scaled = scaler.transform(data)\n",
    "    predictions = model.predict(data_scaled)\n",
    "    # Lưu kết quả\n",
    "    pd.DataFrame(predictions, columns=['prediction']).to_csv(output_csv, index=False)\n",
    "    print(f\"Dự đoán đã lưu vào {output_csv} rồi nhé! :3\")\n",
    "\n",
    "# Ví dụ sử dụng\n",
    "predict_from_file('new_patients.csv', 'predictions.csv', loaded_model, scaler)"
   ]
  },
  {
   "cell_type": "markdown",
   "id": "4e340de3",
   "metadata": {},
   "source": [
    "### (Bonus) Triển khai mô hình thành API với Flask\n",
    "\n",
    "Nếu muốn triển khai thành API, bạn có thể dùng Flask như sau:"
   ]
  },
  {
   "cell_type": "code",
   "execution_count": null,
   "id": "f237e8cd",
   "metadata": {},
   "outputs": [],
   "source": [
    "# Chạy cell này chỉ khi bạn muốn thử nghiệm Flask API (không chạy trong Colab)\n",
    "\n",
    "from flask import Flask, request, jsonify\n",
    "import numpy as np\n",
    "import pickle\n",
    "\n",
    "app = Flask(__name__)\n",
    "\n",
    "# Load mô hình và scaler\n",
    "with open('best_model.pkl', 'rb') as f:\n",
    "    model = pickle.load(f)\n",
    "scaler = MinMaxScaler()\n",
    "scaler.fit(X)\n",
    "\n",
    "@app.route('/predict', methods=['POST'])\n",
    "def predict():\n",
    "    data = request.get_json(force=True)\n",
    "    input_data = np.array(data['input']).reshape(1, -1)\n",
    "    input_scaled = scaler.transform(input_data)\n",
    "    prediction = model.predict(input_scaled)\n",
    "    return jsonify({'prediction': int(prediction[0])})\n",
    "\n",
    "if __name__ == '__main__':\n",
    "    app.run(debug=True)"
   ]
  },
  {
   "cell_type": "markdown",
   "id": "88436967",
   "metadata": {},
   "source": [
    "<a id=\"summary\"></a>\n",
    "## 4. Tổng kết\n",
    "\n",
    "- Đã biết cách sử dụng mô hình để dự đoán dữ liệu mới (inference).\n",
    "- Đánh giá mô hình trên dữ liệu thực tế để kiểm tra hiệu năng ngoài phòng lab.\n",
    "- Minh họa cách tự động hóa dự đoán và triển khai thành API đơn giản.\n"
   ]
  }
 ],
 "metadata": {
  "kernelspec": {
   "display_name": "Python 3",
   "language": "python",
   "name": "python3"
  },
  "language_info": {
   "name": "python",
   "version": "3.8.10"
  }
 },
 "nbformat": 4,
 "nbformat_minor": 5
}
