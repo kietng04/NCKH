{
 "cells": [
  {
   "cell_type": "markdown",
   "id": "1e4cfaee",
   "metadata": {},
   "source": [
    "# Machine Learning Mastery With Python\n",
    "## Chương 1-4: Tổng quan Python và Cách Đọc Dữ Liệu\n",
    "\n",
    "Notebook này hướng dẫn tổng quan về Python, các thư viện nền tảng cho Machine Learning, và các cách đọc dữ liệu từ file CSV\n",
    "\n",
    "---"
   ]
  },
  {
   "cell_type": "markdown",
   "id": "0fd77996",
   "metadata": {},
   "source": [
    "## Mục lục\n",
    "1. [Giới thiệu Python & Thư viện](#gioi-thieu)\n",
    "2. [Cú pháp Python cơ bản](#cu-phap)\n",
    "3. [Làm quen với Numpy, Pandas, Matplotlib](#thu-vien)\n",
    "4. [Đọc dữ liệu từ CSV](#doc-csv)\n",
    "5. [Tổng kết](#tong-ket)"
   ]
  },
  {
   "cell_type": "markdown",
   "id": "edfad47c",
   "metadata": {},
   "source": [
    "<a id=\"gioi-thieu\"></a>\n",
    "## 1. Giới thiệu Python & Thư viện nền tảng\n",
    "\n",
    "Python là ngôn ngữ rất phổ biến cho Machine Learning vì:\n",
    "- Cú pháp dễ đọc, dễ học\n",
    "- Thư viện mạnh mẽ: numpy, pandas, matplotlib, scikit-learn\n",
    "\n",
    "**Cài đặt thư viện (chạy một lần trên máy):**\n",
    "```bash\n",
    "pip install numpy pandas matplotlib scikit-learn\n",
    "```"
   ]
  },
  {
   "cell_type": "code",
   "execution_count": null,
   "id": "c61bdd5e",
   "metadata": {},
   "outputs": [],
   "source": [
    "# Import các thư viện cơ bản cho Machine Learning\n",
    "import numpy as np \n",
    "import pandas as pd \n",
    "import matplotlib.pyplot as plt"
   ]
  },
  {
   "cell_type": "markdown",
   "id": "e4c9fd70",
   "metadata": {},
   "source": [
    "<a id=\"cu-phap\"></a>\n",
    "## 2. Cú pháp Python cơ bản\n",
    "\n",
    "Một số cú pháp quan trọng giúp bạn đọc/viết code Python dễ dàng hơn."
   ]
  },
  {
   "cell_type": "code",
   "execution_count": null,
   "id": "412bd625",
   "metadata": {},
   "outputs": [],
   "source": [
    "# Gán giá trị và in ra\n",
    "a, b, c = 1, 2, 3\n",
    "print(a, b, c)  # In ra: 1 2 3\n",
    "\n",
    "# List (danh sách)\n",
    "mylist = [1, 2, 3]\n",
    "mylist.append(4)\n",
    "print(mylist)  # [1, 2, 3, 4]\n",
    "\n",
    "# Dictionary (từ điển)\n",
    "mydict = {'a': 1, 'b': 2}\n",
    "print(mydict['a'])  # 1\n",
    "\n",
    "# Functions (hàm)\n",
    "def mysum(x, y):\n",
    "    return x + y\n",
    "\n",
    "print(mysum(5, 7))  # 12"
   ]
  },
  {
   "cell_type": "markdown",
   "id": "8b5eb616",
   "metadata": {},
   "source": [
    "<a id=\"thu-vien\"></a>\n",
    "## 3. Làm quen với Numpy, Pandas, Matplotlib\n",
    "\n",
    "Các thư viện nền tảng cho Machine Learning:  \n",
    "- **numpy**: thao tác mảng số liệu  \n",
    "- **pandas**: xử lý dữ liệu dạng bảng  \n",
    "- **matplotlib**: vẽ biểu đồ"
   ]
  },
  {
   "cell_type": "code",
   "execution_count": null,
   "id": "b2a85e71",
   "metadata": {},
   "outputs": [],
   "source": [
    "# Numpy array\n",
    "arr = np.array([1, 2, 3])\n",
    "print(\"Shape of arr:\", arr.shape)  # (3,)"
   ]
  },
  {
   "cell_type": "code",
   "execution_count": null,
   "id": "978b8488",
   "metadata": {},
   "outputs": [],
   "source": [
    "# Pandas DataFrame\n",
    "df = pd.DataFrame({'A': [1,2], 'B':[3,4]})\n",
    "print(df)"
   ]
  },
  {
   "cell_type": "code",
   "execution_count": null,
   "id": "15957d48",
   "metadata": {},
   "outputs": [],
   "source": [
    "# Matplotlib plot\n",
    "plt.plot([1,2,3], [4,5,6])\n",
    "plt.xlabel('x')\n",
    "plt.ylabel('y')\n",
    "plt.title('Demo plot')\n",
    "plt.show()"
   ]
  },
  {
   "cell_type": "markdown",
   "id": "ccf37959",
   "metadata": {},
   "source": [
    "<a id=\"doc-csv\"></a>\n",
    "## 4. Đọc dữ liệu từ file CSV\n",
    "\n",
    "Dữ liệu Machine Learning thường ở dạng CSV. Có nhiều cách đọc file CSV trong Python:\n",
    "- Dùng thư viện chuẩn `csv`\n",
    "- Dùng `numpy`\n",
    "- Dùng `pandas` (khuyến nghị)\n"
   ]
  },
  {
   "cell_type": "code",
   "execution_count": null,
   "id": "27f8affa",
   "metadata": {},
   "outputs": [],
   "source": [
    "import csv\n",
    "with open('pima-indians-diabetes.data.csv', 'r') as file:\n",
    "    reader = csv.reader(file)\n",
    "    for i, row in enumerate(reader):\n",
    "        print(row)\n",
    "        if i == 4: break  # In 5 dòng đầu"
   ]
  },
  {
   "cell_type": "code",
   "execution_count": null,
   "id": "77ab7e11",
   "metadata": {},
   "outputs": [],
   "source": [
    "data_np = np.loadtxt('pima-indians-diabetes.data.csv', delimiter=',')\n",
    "print(data_np[:5])  # In 5 dòng đầu"
   ]
  },
  {
   "cell_type": "code",
   "execution_count": null,
   "id": "f0e9226e",
   "metadata": {},
   "outputs": [],
   "source": [
    "names = ['preg', 'plas', 'pres', 'skin', 'test', 'mass', 'pedi', 'age', 'class']\n",
    "data_pd = pd.read_csv('pima-indians-diabetes.data.csv', names=names)\n",
    "print(data_pd.head())"
   ]
  },
  {
   "cell_type": "markdown",
   "id": "d752ee65",
   "metadata": {},
   "source": [
    "<a id=\"tong-ket\"></a>\n",
    "## 5. Tổng kết\n",
    "\n",
    "- Đã làm quen với Python và các thư viện nền tảng cho Machine Learning.\n",
    "- Đã biết cách đọc dữ liệu CSV bằng nhiều phương pháp.\n",
    "- Sẵn sàng cho các bước phân tích dữ liệu và xây dựng mô hình tiếp theo.\n",
    "\n"
   ]
  }
 ],
 "metadata": {
  "kernelspec": {
   "display_name": "Python 3",
   "language": "python",
   "name": "python3"
  },
  "language_info": {
   "name": "python",
   "version": "3.8.10"
  }
 },
 "nbformat": 4,
 "nbformat_minor": 5
}
