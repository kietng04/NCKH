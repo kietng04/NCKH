{
 "cells": [
  {
   "cell_type": "markdown",
   "id": "09fbd76e",
   "metadata": {},
   "source": [
    "# Machine Learning Mastery With Python\n",
    "## Chương 9-14: Xây dựng, Đánh giá & Tối ưu mô hình Machine Learning\n",
    "\n",
    "Trong notebook này, chúng ta sẽ thực hiện các bước xây dựng, đánh giá và tối ưu hóa mô hình học máy:  \n",
    "- Chia dữ liệu train/test  \n",
    "- Đánh giá mô hình với validation set  \n",
    "- So sánh nhiều thuật toán  \n",
    "- Đánh giá bằng nhiều chỉ số  \n",
    "- Tối ưu hyperparameter  \n",
    "- Lưu & tải mô hình\n",
    "\n",
    "---\n"
   ]
  },
  {
   "cell_type": "markdown",
   "id": "d481e008",
   "metadata": {},
   "source": [
    "## Mục lục\n",
    "1. [Chia dữ liệu train/test](#split)\n",
    "2. [Đánh giá mô hình với validation set (cross-validation)](#cv)\n",
    "3. [So sánh nhiều thuật toán ML](#compare)\n",
    "4. [Đánh giá bằng nhiều chỉ số (accuracy, confusion matrix, classification report)](#metrics)\n",
    "5. [Tối ưu hyperparameter (GridSearchCV)](#tuning)\n",
    "6. [Lưu và tải mô hình (pickle/joblib)](#save)\n",
    "7. [Tổng kết](#summary)"
   ]
  },
  {
   "cell_type": "markdown",
   "id": "50d4dc36",
   "metadata": {},
   "source": [
    "<a id=\"split\"></a>\n",
    "## 1. Chia dữ liệu train/test\n",
    "\n",
    "**Mục đích:**  \n",
    "Chia dữ liệu thành 2 phần:  \n",
    "- **Train set:** để huấn luyện mô hình  \n",
    "- **Test set:** để kiểm tra mô hình trên dữ liệu chưa từng thấy\n",
    "\n",
    "**Tỉ lệ phổ biến:** 70-80% train, 20-30% test"
   ]
  },
  {
   "cell_type": "code",
   "execution_count": null,
   "id": "44bdd3f8",
   "metadata": {},
   "outputs": [],
   "source": [
    "from sklearn.model_selection import train_test_split\n",
    "\n",
    "# Giả sử X, y đã chuẩn bị từ trước\n",
    "X_train, X_test, y_train, y_test = train_test_split(\n",
    "    X, y, test_size=0.2, random_state=42)\n",
    "\n",
    "print(\"Kích thước tập train:\", X_train.shape)\n",
    "print(\"Kích thước tập test:\", X_test.shape)"
   ]
  },
  {
   "cell_type": "markdown",
   "id": "67d57585",
   "metadata": {},
   "source": [
    "<a id=\"cv\"></a>\n",
    "## 2. Đánh giá mô hình với validation set (Cross-Validation)\n",
    "\n",
    "**Mục đích:**  \n",
    "- Đánh giá mô hình khách quan hơn bằng cách chia nhỏ tập train thành nhiều phần (folds), lần lượt train và test trên từng phần.\n",
    "- Phổ biến nhất là **K-Fold Cross-Validation** (thường dùng k=10).\n",
    "\n",
    "**Ưu điểm:**  \n",
    "- Giảm nguy cơ overfitting do chia dữ liệu ngẫu nhiên một lần."
   ]
  },
  {
   "cell_type": "code",
   "execution_count": null,
   "id": "b2aa6b7b",
   "metadata": {},
   "outputs": [],
   "source": [
    "from sklearn.model_selection import KFold, cross_val_score\n",
    "from sklearn.linear_model import LogisticRegression\n",
    "\n",
    "model = LogisticRegression(max_iter=1000)\n",
    "kfold = KFold(n_splits=10, shuffle=True, random_state=42)\n",
    "results = cross_val_score(model, X_train, y_train, cv=kfold, scoring='accuracy')\n",
    "\n",
    "print(\"Độ chính xác trung bình (mean accuracy):\", results.mean())\n",
    "print(\"Độ lệch chuẩn:\", results.std())"
   ]
  },
  {
   "cell_type": "markdown",
   "id": "8d452bf6",
   "metadata": {},
   "source": [
    "<a id=\"compare\"></a>\n",
    "## 3. So sánh nhiều thuật toán ML\n",
    "\n",
    "**Mục đích:**  \n",
    "- Thử nghiệm nhiều thuật toán khác nhau để xem cái nào phù hợp nhất với dữ liệu của bạn.\n",
    "- Có thể thử Logistic Regression, KNN, Decision Tree, SVM, Naive Bayes, Random Forest, v.v.\n",
    "\n",
    "**Lưu ý:**  \n",
    "- Nên dùng cùng một quy trình cross-validation để so sánh công bằng."
   ]
  },
  {
   "cell_type": "code",
   "execution_count": null,
   "id": "ccc3b97d",
   "metadata": {},
   "outputs": [],
   "source": [
    "from sklearn.linear_model import LogisticRegression\n",
    "from sklearn.tree import DecisionTreeClassifier\n",
    "from sklearn.neighbors import KNeighborsClassifier\n",
    "from sklearn.naive_bayes import GaussianNB\n",
    "from sklearn.svm import SVC\n",
    "\n",
    "models = []\n",
    "models.append(('LR', LogisticRegression(max_iter=1000)))\n",
    "models.append(('KNN', KNeighborsClassifier()))\n",
    "models.append(('CART', DecisionTreeClassifier()))\n",
    "models.append(('NB', GaussianNB()))\n",
    "models.append(('SVM', SVC()))\n",
    "\n",
    "results = []\n",
    "names = []\n",
    "\n",
    "for name, model in models:\n",
    "    cv_results = cross_val_score(model, X_train, y_train, cv=kfold, scoring='accuracy')\n",
    "    results.append(cv_results)\n",
    "    names.append(name)\n",
    "    print(f\"{name}: Mean={cv_results.mean():.3f}, Std={cv_results.std():.3f} :3\")"
   ]
  },
  {
   "cell_type": "markdown",
   "id": "08f7ce09",
   "metadata": {},
   "source": [
    "### Trực quan hóa so sánh các thuật toán\n",
    "\n",
    "Vẽ boxplot để so sánh trực quan hiệu năng các mô hình."
   ]
  },
  {
   "cell_type": "code",
   "execution_count": null,
   "id": "c27a91a9",
   "metadata": {},
   "outputs": [],
   "source": [
    "import matplotlib.pyplot as plt\n",
    "\n",
    "plt.figure(figsize=(8,6))\n",
    "plt.boxplot(results, labels=names)\n",
    "plt.title(\"So sánh độ chính xác các thuật toán ML\")\n",
    "plt.ylabel(\"Accuracy\")\n",
    "plt.show()"
   ]
  },
  {
   "cell_type": "markdown",
   "id": "d6dc816e",
   "metadata": {},
   "source": [
    "<a id=\"metrics\"></a>\n",
    "## 4. Đánh giá bằng nhiều chỉ số\n",
    "\n",
    "**Mục đích:**  \n",
    "- Không chỉ dùng accuracy, nên xem thêm confusion matrix, precision, recall, f1-score.\n",
    "\n",
    "**Lưu ý:**  \n",
    "- Đánh giá trên tập test, sau khi đã chọn model tốt nhất ở bước trên."
   ]
  },
  {
   "cell_type": "code",
   "execution_count": null,
   "id": "56b68e6d",
   "metadata": {},
   "outputs": [],
   "source": [
    "from sklearn.metrics import accuracy_score, confusion_matrix, classification_report\n",
    "\n",
    "# Giả sử chọn Logistic Regression là model tốt nhất\n",
    "best_model = LogisticRegression(max_iter=1000)\n",
    "best_model.fit(X_train, y_train)\n",
    "y_pred = best_model.predict(X_test)\n",
    "\n",
    "print(\"Accuracy trên tập test:\", accuracy_score(y_test, y_pred))\n",
    "print(\"Confusion Matrix:\")\n",
    "print(confusion_matrix(y_test, y_pred))\n",
    "print(\"Classification Report:\")\n",
    "print(classification_report(y_test, y_pred))"
   ]
  },
  {
   "cell_type": "markdown",
   "id": "c30f421a",
   "metadata": {},
   "source": [
    "<a id=\"tuning\"></a>\n",
    "## 5. Tối ưu hyperparameter (GridSearchCV)\n",
    "\n",
    "**Mục đích:**  \n",
    "- Thử nghiệm nhiều giá trị tham số để tìm ra bộ tham số tốt nhất cho mô hình.\n",
    "\n",
    "**Ví dụ:**  \n",
    "- Tối ưu số láng giềng (n_neighbors) cho KNN"
   ]
  },
  {
   "cell_type": "code",
   "execution_count": null,
   "id": "d6907b25",
   "metadata": {},
   "outputs": [],
   "source": [
    "from sklearn.model_selection import GridSearchCV\n",
    "from sklearn.neighbors import KNeighborsClassifier\n",
    "\n",
    "param_grid = {'n_neighbors': np.arange(1, 21)}\n",
    "grid = GridSearchCV(KNeighborsClassifier(), param_grid, cv=5, scoring='accuracy')\n",
    "grid.fit(X_train, y_train)\n",
    "\n",
    "print(\"Best score:\", grid.best_score_)\n",
    "print(\"Best params:\", grid.best_params_)"
   ]
  },
  {
   "cell_type": "markdown",
   "id": "52fe5ade",
   "metadata": {},
   "source": [
    "<a id=\"save\"></a>\n",
    "## 6. Lưu và tải mô hình (pickle/joblib)\n",
    "\n",
    "**Mục đích:**  \n",
    "- Lưu mô hình đã train để sử dụng lại mà không cần train lại từ đầu.\n",
    "\n",
    "**Lưu ý:**  \n",
    "- Có thể dùng pickle hoặc joblib"
   ]
  },
  {
   "cell_type": "code",
   "execution_count": null,
   "id": "58299508",
   "metadata": {},
   "outputs": [],
   "source": [
    "import pickle\n",
    "\n",
    "# Lưu mô hình\n",
    "with open('best_model.pkl', 'wb') as f:\n",
    "    pickle.dump(best_model, f)\n",
    "\n",
    "# Tải lại mô hình\n",
    "with open('best_model.pkl', 'rb') as f:\n",
    "    loaded_model = pickle.load(f)\n",
    "\n",
    "# Kiểm tra mô hình đã tải\n",
    "print(\"Dự đoán với model đã load:\", loaded_model.predict(X_test[:5]))"
   ]
  },
  {
   "cell_type": "markdown",
   "id": "af40d485",
   "metadata": {},
   "source": [
    "<a id=\"summary\"></a>\n",
    "## 7. Tổng kết\n",
    "\n",
    "- Đã thực hiện đầy đủ quy trình xây dựng, đánh giá và tối ưu mô hình học máy.\n",
    "- So sánh nhiều thuật toán, chọn ra mô hình tốt nhất.\n",
    "- Đánh giá với nhiều chỉ số, tối ưu tham số, lưu mô hình để tái sử dụng."
   ]
  }
 ],
 "metadata": {
  "kernelspec": {
   "display_name": "Python 3",
   "language": "python",
   "name": "python3"
  },
  "language_info": {
   "name": "python",
   "version": "3.8.10"
  }
 },
 "nbformat": 4,
 "nbformat_minor": 5
}
