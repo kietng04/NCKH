{
 "cells": [
  {
   "cell_type": "markdown",
   "id": "35f9d004",
   "metadata": {},
   "source": [
    "# Machine Learning Mastery With Python\n",
    "## Chương 5-6: Phân tích dữ liệu thăm dò (EDA)\n",
    "\n",
    "Notebook này hướng dẫn các bước phân tích dữ liệu thăm dò (Exploratory Data Analysis - EDA) sử dụng Pandas và Matplotlib, giúp bạn hiểu rõ hơn về dữ liệu trước khi xây dựng mô hình Machine Learning.\n",
    "\n",
    "---"
   ]
  },
  {
   "cell_type": "markdown",
   "id": "ec1d9728",
   "metadata": {},
   "source": [
    "## Mục lục\n",
    "1. [Xem nhanh dữ liệu](#xem-nhanh)\n",
    "2. [Thống kê mô tả](#mo-ta)\n",
    "3. [Kiểm tra phân phối class](#phan-phoi)\n",
    "4. [Kiểm tra kiểu dữ liệu](#kieu-du-lieu)\n",
    "5. [Ma trận tương quan](#tuong-quan)\n",
    "6. [Kiểm tra skew](#skew)\n",
    "7. [Vẽ biểu đồ](#bieu-do)\n",
    "8. [Tổng kết](#tong-ket)"
   ]
  },
  {
   "cell_type": "markdown",
   "id": "4d08b47a",
   "metadata": {},
   "source": [
    "<a id=\"xem-nhanh\"></a>\n",
    "## 1. Xem nhanh dữ liệu\n",
    "\n",
    "Xem một số dòng đầu, kích thước dữ liệu, và tên cột để có cái nhìn tổng quan."
   ]
  },
  {
   "cell_type": "code",
   "execution_count": null,
   "id": "949f0296",
   "metadata": {},
   "outputs": [],
   "source": [
    "import pandas as pd\n",
    "\n",
    "# Đọc dữ liệu (giả sử đã có file pima-indians-diabetes.data.csv)\n",
    "names = ['preg', 'plas', 'pres', 'skin', 'test', 'mass', 'pedi', 'age', 'class']\n",
    "data = pd.read_csv('pima-indians-diabetes.data.csv', names=names)\n",
    "\n",
    "print(\"5 dòng đầu:\")\n",
    "print(data.head())  # Xem 5 dòng đầu\n",
    "\n",
    "print(\"\\nKích thước dữ liệu:\", data.shape)  # (768, 9)\n",
    "print(\"\\nTên cột:\", data.columns.tolist())\n"
   ]
  },
  {
   "cell_type": "markdown",
   "id": "7dba3cab",
   "metadata": {},
   "source": [
    "<a id=\"mo-ta\"></a>\n",
    "## 2. Thống kê mô tả\n",
    "\n",
    "Xem các chỉ số thống kê cơ bản cho từng thuộc tính số: min, max, mean, std, quartiles,...\n"
   ]
  },
  {
   "cell_type": "code",
   "execution_count": null,
   "id": "d5c93a8b",
   "metadata": {},
   "outputs": [],
   "source": [
    "print(data.describe())"
   ]
  },
  {
   "cell_type": "markdown",
   "id": "6e47196e",
   "metadata": {},
   "source": [
    "<a id=\"phan-phoi\"></a>\n",
    "## 3. Kiểm tra phân phối class\n",
    "\n",
    "Kiểm tra xem dữ liệu có cân bằng giữa các lớp hay không (nếu là bài toán phân loại).\n"
   ]
  },
  {
   "cell_type": "code",
   "execution_count": null,
   "id": "5ed468da",
   "metadata": {},
   "outputs": [],
   "source": [
    "print(\"Phân phối label/class:\")\n",
    "print(data['class'].value_counts())\n",
    "print(\"Tỷ lệ phần trăm:\")\n",
    "print(data['class'].value_counts(normalize=True))\n"
   ]
  },
  {
   "cell_type": "markdown",
   "id": "b48c65c1",
   "metadata": {},
   "source": [
    "<a id=\"kieu-du-lieu\"></a>\n",
    "## 4. Kiểm tra kiểu dữ liệu từng thuộc tính\n"
   ]
  },
  {
   "cell_type": "code",
   "execution_count": null,
   "id": "f82b1311",
   "metadata": {},
   "outputs": [],
   "source": [
    "print(\"Kiểu dữ liệu các cột:\")\n",
    "print(data.dtypes)\n",
    "\n",
    "# Kiểm tra để biết cột nào là số, cột nào là object/categorical."
   ]
  },
  {
   "cell_type": "markdown",
   "id": "b5ec1c49",
   "metadata": {},
   "source": [
    "<a id=\"tuong-quan\"></a>\n",
    "## 5. Ma trận tương quan\n",
    "\n",
    "Tính hệ số tương quan giữa các thuộc tính số.\n"
   ]
  },
  {
   "cell_type": "code",
   "execution_count": null,
   "id": "a397200d",
   "metadata": {},
   "outputs": [],
   "source": [
    "print(\"Ma trận tương quan:\")\n",
    "print(data.corr())\n",
    "\n",
    "# Giá trị gần 1 hoặc -1: tương quan mạnh\n",
    "# Gần 0: tương quan yếu\n",
    "# Có thể dùng để phát hiện thuộc tính dư thừa hoặc đa cộng tuyến"
   ]
  },
  {
   "cell_type": "markdown",
   "id": "c8497cba",
   "metadata": {},
   "source": [
    "<a id=\"skew\"></a>\n",
    "## 6. Kiểm tra skew (độ lệch phân phối)\n",
    "\n",
    "Skew giúp xác định thuộc tính nào phân phối lệch nhiều, có thể cần transform.\n"
   ]
  },
  {
   "cell_type": "code",
   "execution_count": null,
   "id": "6dc6ef85",
   "metadata": {},
   "outputs": [],
   "source": [
    "print(\"Skew (độ lệch):\")\n",
    "print(data.skew())\n",
    "\n",
    "# Skew > 1 hoặc < -1: lệch mạnh, có thể cần log/box-cox transform"
   ]
  },
  {
   "cell_type": "markdown",
   "id": "d40fbc65",
   "metadata": {},
   "source": [
    "<a id=\"bieu-do\"></a>\n",
    "## 7. Vẽ biểu đồ\n",
    "\n",
    "Giúp trực quan hóa phân phối thuộc tính và mối quan hệ giữa các thuộc tính.\n"
   ]
  },
  {
   "cell_type": "code",
   "execution_count": null,
   "id": "e32b63d8",
   "metadata": {},
   "outputs": [],
   "source": [
    "# Historigram\n",
    "import matplotlib.pyplot as plt\n",
    "data.hist(figsize=(10,8))\n",
    "plt.suptitle(\"Histogram cho từng thuộc tính\")\n",
    "plt.show()\n",
    "\n",
    "# Dễ nhận biết outlier, phân phối lệch"
   ]
  },
  {
   "cell_type": "code",
   "execution_count": null,
   "id": "c44cc07f",
   "metadata": {},
   "outputs": [],
   "source": [
    "# Density Plot\n",
    "data.plot(kind='density', subplots=True, layout=(3,3), sharex=False, figsize=(10,8))\n",
    "plt.suptitle(\"Density plot cho từng thuộc tính\")\n",
    "plt.show()\n",
    "\n",
    "# Xem mượt hơn histogram, dễ so sánh nhiều thuộc tính"
   ]
  },
  {
   "cell_type": "code",
   "execution_count": null,
   "id": "de7456a2",
   "metadata": {},
   "outputs": [],
   "source": [
    "# Boxplot\n",
    "data.plot(kind='box', subplots=True, layout=(3,3), sharex=False, sharey=False, figsize=(10,8))\n",
    "plt.suptitle(\"Boxplot cho từng thuộc tính\")\n",
    "plt.show()\n",
    "\n",
    "# Tìm outlier, giá trị bất thường"
   ]
  },
  {
   "cell_type": "code",
   "execution_count": null,
   "id": "56d11c5c",
   "metadata": {},
   "outputs": [],
   "source": [
    "# Scatter Matrix\n",
    "pd.plotting.scatter_matrix(data, figsize=(12,12))\n",
    "plt.suptitle(\"Scatter matrix giữa các thuộc tính\")\n",
    "plt.show()\n",
    "\n",
    "# Nhìn mối liên hệ giữa các thuộc tính, phát hiện tương quan tuyến tính"
   ]
  },
  {
   "cell_type": "code",
   "execution_count": null,
   "id": "f01ed4a6",
   "metadata": {},
   "outputs": [],
   "source": [
    "# Correlation Matrix Heatmap\n",
    "import seaborn as sns\n",
    "plt.figure(figsize=(10,8))\n",
    "sns.heatmap(data.corr(), annot=True, cmap='coolwarm')\n",
    "plt.title(\"Ma trận tương quan (Correlation Matrix)\")\n",
    "plt.show()\n",
    "\n",
    "# Dễ phát hiện thuộc tính tương quan mạnh/yếu"
   ]
  },
  {
   "cell_type": "markdown",
   "id": "490c068c",
   "metadata": {},
   "source": [
    "<a id=\"tong-ket\"></a>\n",
    "## 8. Tổng kết\n",
    "\n",
    "- Đã phân tích tổng quan dữ liệu bằng các số liệu thống kê và biểu đồ.\n",
    "- Phát hiện được các vấn đề tiềm ẩn như: outlier, thuộc tính lệch, thuộc tính tương quan mạnh,...\n",
    "- Sẵn sàng cho bước tiền xử lý dữ liệu tiếp theo.\n",
    "\n"
   ]
  }
 ],
 "metadata": {
  "kernelspec": {
   "display_name": "Python 3",
   "language": "python",
   "name": "python3"
  },
  "language_info": {
   "name": "python",
   "version": "3.8.10"
  }
 },
 "nbformat": 4,
 "nbformat_minor": 5
}
